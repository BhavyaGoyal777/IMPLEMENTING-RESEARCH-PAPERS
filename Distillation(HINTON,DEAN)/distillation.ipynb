{
 "cells": [
  {
   "cell_type": "code",
   "execution_count": 55,
   "metadata": {},
   "outputs": [],
   "source": [
    "import torch\n",
    "import torch.nn as nn\n",
    "import torchvision.transforms as transforms\n",
    "import torch.optim as optim\n",
    "import torchvision.datasets as datasets\n",
    "import torch.nn.functional as F\n",
    "import os \n"
   ]
  },
  {
   "cell_type": "code",
   "execution_count": 3,
   "metadata": {},
   "outputs": [
    {
     "name": "stdout",
     "output_type": "stream",
     "text": [
      "cpu\n"
     ]
    }
   ],
   "source": [
    "device = \"cuda\" if torch.cuda.is_available() else \"cpu\"\n",
    "print(device)"
   ]
  },
  {
   "cell_type": "code",
   "execution_count": null,
   "metadata": {},
   "outputs": [],
   "source": [
    "transforms_mnist = transforms.Compose(\n",
    "    [transforms.ToTensor(),\n",
    "     transforms.Normalize(mean=0.1307,std=0.3081)],\n",
    ")\n",
    "train_dataset = datasets.MNIST(root=\"./train\" , train=True,transform=transforms_mnist,download=True)\n",
    "test_dataset = datasets.MNIST(root=\"./test\" , train=False,transform=transforms_mnist,download=True)"
   ]
  },
  {
   "cell_type": "code",
   "execution_count": null,
   "metadata": {},
   "outputs": [],
   "source": [
    "\n",
    "\n",
    "\n",
    "\n",
    "train_loader = torch.utils.data.DataLoader(\n",
    "    train_dataset,\n",
    "    batch_size = 128,\n",
    "    shuffle = True,\n",
    "    num_workers = 4\n",
    ")\n",
    "test_loader = torch.utils.data.DataLoader(\n",
    "    test_dataset,\n",
    "    batch_size = 128,\n",
    "    shuffle = True,\n",
    "    num_workers = 4\n",
    ")"
   ]
  },
  {
   "cell_type": "code",
   "execution_count": 16,
   "metadata": {},
   "outputs": [],
   "source": [
    "class TEACHERMODEL(nn.Module):\n",
    "    def __init__(self):\n",
    "        super().__init__()\n",
    "        self.C1 = nn.Conv2d(in_channels=1,out_channels=6,kernel_size=5,stride=1,padding=0)\n",
    "        self.S1 = nn.AvgPool2d(kernel_size=2,stride=2,padding=0)\n",
    "        self.C2 = nn.Conv2d(in_channels=6,out_channels=16,kernel_size=5,stride = 1,padding=0)\n",
    "        self.S2 = nn.AvgPool2d(kernel_size=2,stride=2)\n",
    "        self.C3 = nn.Conv2d(in_channels = 16,out_channels = 120,kernel_size = 5)\n",
    "        self.flatten = nn.Flatten(start_dim=1) # start dim = 1 becuase we are using batches\n",
    "        self.FCNN = nn.Linear(in_features=120,out_features=84,bias=False)\n",
    "        self.classifier = nn.Linear(in_features= 84 , out_features=10)\n",
    "    def forward(self,x):\n",
    "        x = F.relu(self.C1(x))\n",
    "        x = self.S1(x)\n",
    "        x = F.relu(self.C2(x))\n",
    "        x = self.S2(x)   \n",
    "        x = F.relu(self.C3(x))\n",
    "        x = self.flatten(x)\n",
    "        x = F.relu(self.FCNN(x))\n",
    "        x = self.classifier(x)\n",
    "        return x"
   ]
  },
  {
   "cell_type": "code",
   "execution_count": 17,
   "metadata": {},
   "outputs": [],
   "source": [
    "model = LENET5()"
   ]
  },
  {
   "cell_type": "code",
   "execution_count": 19,
   "metadata": {},
   "outputs": [
    {
     "data": {
      "text/plain": [
       "=================================================================\n",
       "Layer (type:depth-idx)                   Param #\n",
       "=================================================================\n",
       "LENET5                                   --\n",
       "├─Conv2d: 1-1                            156\n",
       "├─AvgPool2d: 1-2                         --\n",
       "├─Conv2d: 1-3                            2,416\n",
       "├─AvgPool2d: 1-4                         --\n",
       "├─Conv2d: 1-5                            48,120\n",
       "├─Flatten: 1-6                           --\n",
       "├─Linear: 1-7                            10,080\n",
       "├─Linear: 1-8                            850\n",
       "=================================================================\n",
       "Total params: 61,622\n",
       "Trainable params: 61,622\n",
       "Non-trainable params: 0\n",
       "================================================================="
      ]
     },
     "execution_count": 19,
     "metadata": {},
     "output_type": "execute_result"
    }
   ],
   "source": [
    "from torchinfo import summary\n",
    "summary(model = model )"
   ]
  },
  {
   "cell_type": "code",
   "execution_count": 31,
   "metadata": {},
   "outputs": [],
   "source": [
    "class STUDENTMODEL(nn.Module):\n",
    "    def __init__(self):\n",
    "        super().__init__()\n",
    "\n",
    "        self.C1 = nn.Conv2d(in_channels = 1,out_channels = 4,kernel_size=7,stride = 1) #okay so this outputs (32 - 7 + 0)/1 + 1 = 26 with 4 channels \n",
    "        self.S1 = nn.MaxPool2d(kernel_size = 2,stride = 2) # (26 - 2 + 0)/2 + 1 = 12 with 4 channels\n",
    "        self.C2 = nn.Conv2d(in_channels = 4,out_channels = 20 ,kernel_size = 5,stride=1) #(12 - 5 + 0)/1 + 1) = 8\n",
    "        self.S2 = nn.MaxPool2d(kernel_size = 2 , stride = 2) #(8 - 2 / 2)+1 = 4 with 20 channels \n",
    "        self.Flatten = nn.Flatten(start_dim=1)\n",
    "        self.CLASSIFIER = nn.Sequential(\n",
    "            \n",
    "                nn.Linear(in_features=320,out_features=64),\n",
    "                torch.nn.ReLU(),\n",
    "                nn.Linear(in_features=64,out_features=10)\n",
    "            \n",
    "        )\n",
    "\n",
    "\n",
    "    def forward(self,x):\n",
    "        x = F.relu(self.C1(x))\n",
    "        x = self.S1(x)\n",
    "        x= F.relu(self.C2(x))\n",
    "        x = self.S2(x)\n",
    "        x = self.Flatten(x)\n",
    "        x = self.CLASSIFIER(x)\n",
    "\n",
    "        return x     "
   ]
  },
  {
   "cell_type": "code",
   "execution_count": 32,
   "metadata": {},
   "outputs": [],
   "source": [
    "STUDENTMODEL = STUDENTMODEL()"
   ]
  },
  {
   "cell_type": "code",
   "execution_count": 33,
   "metadata": {},
   "outputs": [
    {
     "data": {
      "text/plain": [
       "=================================================================\n",
       "Layer (type:depth-idx)                   Param #\n",
       "=================================================================\n",
       "STUDENTMODEL                             --\n",
       "├─Conv2d: 1-1                            200\n",
       "├─MaxPool2d: 1-2                         --\n",
       "├─Conv2d: 1-3                            2,020\n",
       "├─MaxPool2d: 1-4                         --\n",
       "├─Flatten: 1-5                           --\n",
       "├─Sequential: 1-6                        --\n",
       "│    └─Linear: 2-1                       20,544\n",
       "│    └─ReLU: 2-2                         --\n",
       "│    └─Linear: 2-3                       650\n",
       "=================================================================\n",
       "Total params: 23,414\n",
       "Trainable params: 23,414\n",
       "Non-trainable params: 0\n",
       "================================================================="
      ]
     },
     "execution_count": 33,
     "metadata": {},
     "output_type": "execute_result"
    }
   ],
   "source": [
    "from torchinfo import summary\n",
    "summary(model = STUDENTMODEL)"
   ]
  },
  {
   "cell_type": "code",
   "execution_count": null,
   "metadata": {},
   "outputs": [],
   "source": [
    "import torch.optim.adam\n",
    "from tqdm.notebook import tqdm\n",
    "import wandb\n",
    "def train_model(model,train_loader,val_laoder,epochs = 10,lr = 1e-4,device = \"cuda\",run_name = \"Distillation\"):\n",
    "    wandb.init(project=run_name)\n",
    "    wandb.watch(model,log='all')\n",
    "    os.makedirs(f\"checkpoints\",exist_ok=True)\n",
    "\n",
    "    model = model.to(device)\n",
    "    optimizer = torch.optim.Adam(model.parameter(),lr=lr)\n",
    "    criterion = nn.CrossEntropyLoss()\n",
    "\n",
    "    for epoch in range(epochs):\n",
    "        model.train()\n",
    "        total_loss = 0\n",
    "        correct = 0\n",
    "        total = 0\n",
    "\n",
    "        for images,labels in train_loader:\n",
    "            images,labels = images.to(device),labels.to(device)\n",
    "\n",
    "            optimizer.zero_grad()\n",
    "            outputs = model(images)\n",
    "            loss = criterion(outputs,labels)\n",
    "\n",
    "            loss.backward()\n",
    "            optimizer.step()\n",
    "\n",
    "            total_loss += loss.item()\n",
    "\n",
    "            _,predicted = torch.max(outputs,1)\n",
    "            total += labels.size(0)\n",
    "            corrected += (predicted == labels).sum().item()\n",
    "\n",
    "        train_acc = 100 * corrected / total\n",
    "        train_loss = total_loss / len(train_loader)\n",
    "\n",
    "\n",
    "        #validation step\n",
    "        \n",
    "        val_acc,val_loss = evaluate_model(model,val_laoder,criterion,device)\n",
    "\n",
    "        wandb.log(\n",
    "            {\n",
    "                \"epoch\":epoch+1,\n",
    "                \"train_loss\":train_loss,\n",
    "                \"val_loss\":val_loss,\n",
    "                \"train_acc\":train_acc,\n",
    "                \"val_acc\":val_acc\n",
    "            }\n",
    "        )\n",
    "        \n",
    "        if (epoch + 1) % 5 == 0:\n",
    "            model_path = f\"checkpoints/{run_name}_epoch{epoch+1}.pt\"\n",
    "            torch.save(model.state_dict(), model_path)\n",
    "            print(f\"Saved model at: {model_path} :)\")\n",
    "\n",
    "        print(f\"Epoch {epoch+1}/{epochs} | Train Acc: {train_acc:.2f}% | Val Acc: {val_acc:.2f}%\")\n",
    "\n",
    "        wandb.finish()\n",
    "        return model\n",
    "def evaluate_model(model,val_loader,criterion,device=\"cuda\"):\n",
    "    model.eval()  \n",
    "    total_loss = 0\n",
    "    correct = 0\n",
    "    total = 0\n",
    "\n",
    "    with torch.no_grad():\n",
    "        for images, labels in val_loader:\n",
    "            images, labels = images.to(device), labels.to(device)\n",
    "            outputs = model(images)\n",
    "            loss = criterion(outputs, labels)\n",
    "            val_loss += loss.item()\n",
    "\n",
    "            _, predicted = torch.max(outputs.data, 1)\n",
    "            total += labels.size(0)\n",
    "            correct += (predicted == labels).sum().item()\n",
    "\n",
    "    val_acc = 100 * correct / total\n",
    "    val_loss /= len(val_loader)\n",
    "    return val_acc, val_loss"
   ]
  },
  {
   "cell_type": "code",
   "execution_count": null,
   "metadata": {},
   "outputs": [],
   "source": [
    "# Epoch 15/15 | Train Acc: 98.25% | Val Acc: 98.29%\n",
    "# epoch\t15\n",
    "# train_acc\t98.255\n",
    "# train_loss\t0.05801\n",
    "# val_acc\t98.29\n",
    "# val_loss\t0.0543\n",
    "# Epoch 15/15 | Train Acc: 97.81% | Val Acc: 97.93%\n",
    "# epoch\t15\n",
    "# train_acc\t97.80667\n",
    "# train_loss\t0.07401\n",
    "# val_acc\t97.93\n",
    "# val_loss\t0.0623"
   ]
  }
 ],
 "metadata": {
  "kernelspec": {
   "display_name": "base",
   "language": "python",
   "name": "python3"
  },
  "language_info": {
   "codemirror_mode": {
    "name": "ipython",
    "version": 3
   },
   "file_extension": ".py",
   "mimetype": "text/x-python",
   "name": "python",
   "nbconvert_exporter": "python",
   "pygments_lexer": "ipython3",
   "version": "3.12.2"
  }
 },
 "nbformat": 4,
 "nbformat_minor": 2
}
