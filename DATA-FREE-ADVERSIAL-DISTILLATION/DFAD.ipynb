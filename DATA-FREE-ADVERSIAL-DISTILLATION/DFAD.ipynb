{
 "cells": [
  {
   "cell_type": "code",
   "execution_count": 58,
   "metadata": {},
   "outputs": [],
   "source": [
    "import torch\n",
    "import torch.nn as nn\n",
    "from torchvision import transforms\n",
    "from torchvision import datasets\n",
    "from torchvision.models import resnet34,ResNet34_Weights,resnet18,vgg11\n",
    "import torch.nn.functional as F"
   ]
  },
  {
   "cell_type": "code",
   "execution_count": 29,
   "metadata": {},
   "outputs": [],
   "source": [
    "class DCGENERATOR(nn.Module):\n",
    "    def __init__(self,latent_dim = 100,img_channels = 3,feature_maps = 64):\n",
    "        super().__init__()\n",
    "        # the input goes like (B,latent,1,1)\n",
    "        self.model = nn.Sequential(\n",
    "            nn.ConvTranspose2d(in_channels=latent_dim,out_channels=feature_maps * 4,kernel_size=4,padding=0,stride=1),\n",
    "            nn.BatchNorm2d(feature_maps*4),\n",
    "            nn.LeakyReLU(negative_slope=0.2,inplace=True),\n",
    "            # outputs = (1-1)*1-2*0+4 =(256,4,4)\n",
    "\n",
    "            nn.ConvTranspose2d(in_channels=256,out_channels=feature_maps*2,kernel_size=4,stride=2,padding=1),\n",
    "            nn.BatchNorm2d(feature_maps*2),\n",
    "            nn.LeakyReLU(negative_slope=0.2,inplace=True),\n",
    "            #okay so now the shape becomes (4-1) * 2 - 2*1+4 = (8,8,128)\n",
    "\n",
    "            nn.ConvTranspose2d(in_channels=128,out_channels=feature_maps,stride=2,kernel_size=4,padding=1),\n",
    "            nn.BatchNorm2d(feature_maps),\n",
    "            nn.LeakyReLU(negative_slope = 0.2,inplace=True),\n",
    "            #okay so the shape becomes (8-1) * 2 + 4- 2 * 1 + 0 = (16,16,64)\n",
    "\n",
    "            nn.ConvTranspose2d(in_channels=64,out_channels=3,kernel_size=4,stride=2,padding=1),\n",
    "            nn.Tanh(),\n",
    "        )\n",
    "    def forward(self,z):\n",
    "        z = z.view(z.size(0),z.size(1),1,1)\n",
    "        return self.model(z)    "
   ]
  },
  {
   "cell_type": "code",
   "execution_count": 104,
   "metadata": {},
   "outputs": [],
   "source": [
    "import detectors\n",
    "import timm\n",
    "import torchvision.models as models\n",
    "\n",
    "\n",
    "def load_model():\n",
    "    teacher_model = timm.create_model(\"resnet34_cifar100\", pretrained=True)\n",
    "    student_model = models.efficientnet_b0(num_classes = 10)\n",
    "    \n",
    "    generator_model = DCGENERATOR()\n",
    "\n",
    "    return teacher_model,student_model,generator_model\n"
   ]
  },
  {
   "cell_type": "code",
   "execution_count": 105,
   "metadata": {},
   "outputs": [],
   "source": [
    "teacher_model,student_model,generator_model = load_model()"
   ]
  },
  {
   "cell_type": "code",
   "execution_count": 81,
   "metadata": {},
   "outputs": [
    {
     "data": {
      "text/plain": [
       "=================================================================\n",
       "Layer (type:depth-idx)                   Param #\n",
       "=================================================================\n",
       "DCGENERATOR                              --\n",
       "├─Sequential: 1-1                        --\n",
       "│    └─ConvTranspose2d: 2-1              409,856\n",
       "│    └─BatchNorm2d: 2-2                  512\n",
       "│    └─LeakyReLU: 2-3                    --\n",
       "│    └─ConvTranspose2d: 2-4              524,416\n",
       "│    └─BatchNorm2d: 2-5                  256\n",
       "│    └─LeakyReLU: 2-6                    --\n",
       "│    └─ConvTranspose2d: 2-7              131,136\n",
       "│    └─BatchNorm2d: 2-8                  128\n",
       "│    └─LeakyReLU: 2-9                    --\n",
       "│    └─ConvTranspose2d: 2-10             3,075\n",
       "│    └─Tanh: 2-11                        --\n",
       "=================================================================\n",
       "Total params: 1,069,379\n",
       "Trainable params: 1,069,379\n",
       "Non-trainable params: 0\n",
       "================================================================="
      ]
     },
     "execution_count": 81,
     "metadata": {},
     "output_type": "execute_result"
    }
   ],
   "source": [
    "from torchinfo import summary\n",
    "summary(model = generator_model)"
   ]
  },
  {
   "cell_type": "code",
   "execution_count": 82,
   "metadata": {},
   "outputs": [],
   "source": [
    "from torchvision.datasets import CIFAR100\n",
    "from torch.utils.data import DataLoader\n",
    "def load_cifar_test():\n",
    "    transform_cifar100 = transforms.Compose(\n",
    "       [\n",
    "           transforms.ToTensor(),\n",
    "           transforms.Normalize(\n",
    "               mean=[0.5071, 0.4865, 0.4409],\n",
    "               std=[0.2673, 0.2564, 0.2762]\n",
    "           )\n",
    "       ] \n",
    "    )\n",
    "    test_cifar = CIFAR100(\n",
    "        root=\"./data\",train=False,download=True,transform=transform_cifar100\n",
    "    )\n",
    "    test_loader = DataLoader(\n",
    "        dataset=test_cifar,batch_size=256,shuffle=True\n",
    "    )\n",
    "    \n",
    "    return test_loader"
   ]
  },
  {
   "cell_type": "code",
   "execution_count": 83,
   "metadata": {},
   "outputs": [
    {
     "data": {
      "text/plain": [
       "=================================================================\n",
       "Layer (type:depth-idx)                   Param #\n",
       "=================================================================\n",
       "ResNet                                   --\n",
       "├─Conv2d: 1-1                            1,728\n",
       "├─BatchNorm2d: 1-2                       128\n",
       "├─ReLU: 1-3                              --\n",
       "├─Identity: 1-4                          --\n",
       "├─Sequential: 1-5                        --\n",
       "│    └─BasicBlock: 2-1                   --\n",
       "│    │    └─Conv2d: 3-1                  36,864\n",
       "│    │    └─BatchNorm2d: 3-2             128\n",
       "│    │    └─Identity: 3-3                --\n",
       "│    │    └─ReLU: 3-4                    --\n",
       "│    │    └─Identity: 3-5                --\n",
       "│    │    └─Conv2d: 3-6                  36,864\n",
       "│    │    └─BatchNorm2d: 3-7             128\n",
       "│    │    └─ReLU: 3-8                    --\n",
       "│    └─BasicBlock: 2-2                   --\n",
       "│    │    └─Conv2d: 3-9                  36,864\n",
       "│    │    └─BatchNorm2d: 3-10            128\n",
       "│    │    └─Identity: 3-11               --\n",
       "│    │    └─ReLU: 3-12                   --\n",
       "│    │    └─Identity: 3-13               --\n",
       "│    │    └─Conv2d: 3-14                 36,864\n",
       "│    │    └─BatchNorm2d: 3-15            128\n",
       "│    │    └─ReLU: 3-16                   --\n",
       "│    └─BasicBlock: 2-3                   --\n",
       "│    │    └─Conv2d: 3-17                 36,864\n",
       "│    │    └─BatchNorm2d: 3-18            128\n",
       "│    │    └─Identity: 3-19               --\n",
       "│    │    └─ReLU: 3-20                   --\n",
       "│    │    └─Identity: 3-21               --\n",
       "│    │    └─Conv2d: 3-22                 36,864\n",
       "│    │    └─BatchNorm2d: 3-23            128\n",
       "│    │    └─ReLU: 3-24                   --\n",
       "├─Sequential: 1-6                        --\n",
       "│    └─BasicBlock: 2-4                   --\n",
       "│    │    └─Conv2d: 3-25                 73,728\n",
       "│    │    └─BatchNorm2d: 3-26            256\n",
       "│    │    └─Identity: 3-27               --\n",
       "│    │    └─ReLU: 3-28                   --\n",
       "│    │    └─Identity: 3-29               --\n",
       "│    │    └─Conv2d: 3-30                 147,456\n",
       "│    │    └─BatchNorm2d: 3-31            256\n",
       "│    │    └─ReLU: 3-32                   --\n",
       "│    │    └─Sequential: 3-33             8,448\n",
       "│    └─BasicBlock: 2-5                   --\n",
       "│    │    └─Conv2d: 3-34                 147,456\n",
       "│    │    └─BatchNorm2d: 3-35            256\n",
       "│    │    └─Identity: 3-36               --\n",
       "│    │    └─ReLU: 3-37                   --\n",
       "│    │    └─Identity: 3-38               --\n",
       "│    │    └─Conv2d: 3-39                 147,456\n",
       "│    │    └─BatchNorm2d: 3-40            256\n",
       "│    │    └─ReLU: 3-41                   --\n",
       "│    └─BasicBlock: 2-6                   --\n",
       "│    │    └─Conv2d: 3-42                 147,456\n",
       "│    │    └─BatchNorm2d: 3-43            256\n",
       "│    │    └─Identity: 3-44               --\n",
       "│    │    └─ReLU: 3-45                   --\n",
       "│    │    └─Identity: 3-46               --\n",
       "│    │    └─Conv2d: 3-47                 147,456\n",
       "│    │    └─BatchNorm2d: 3-48            256\n",
       "│    │    └─ReLU: 3-49                   --\n",
       "│    └─BasicBlock: 2-7                   --\n",
       "│    │    └─Conv2d: 3-50                 147,456\n",
       "│    │    └─BatchNorm2d: 3-51            256\n",
       "│    │    └─Identity: 3-52               --\n",
       "│    │    └─ReLU: 3-53                   --\n",
       "│    │    └─Identity: 3-54               --\n",
       "│    │    └─Conv2d: 3-55                 147,456\n",
       "│    │    └─BatchNorm2d: 3-56            256\n",
       "│    │    └─ReLU: 3-57                   --\n",
       "├─Sequential: 1-7                        --\n",
       "│    └─BasicBlock: 2-8                   --\n",
       "│    │    └─Conv2d: 3-58                 294,912\n",
       "│    │    └─BatchNorm2d: 3-59            512\n",
       "│    │    └─Identity: 3-60               --\n",
       "│    │    └─ReLU: 3-61                   --\n",
       "│    │    └─Identity: 3-62               --\n",
       "│    │    └─Conv2d: 3-63                 589,824\n",
       "│    │    └─BatchNorm2d: 3-64            512\n",
       "│    │    └─ReLU: 3-65                   --\n",
       "│    │    └─Sequential: 3-66             33,280\n",
       "│    └─BasicBlock: 2-9                   --\n",
       "│    │    └─Conv2d: 3-67                 589,824\n",
       "│    │    └─BatchNorm2d: 3-68            512\n",
       "│    │    └─Identity: 3-69               --\n",
       "│    │    └─ReLU: 3-70                   --\n",
       "│    │    └─Identity: 3-71               --\n",
       "│    │    └─Conv2d: 3-72                 589,824\n",
       "│    │    └─BatchNorm2d: 3-73            512\n",
       "│    │    └─ReLU: 3-74                   --\n",
       "│    └─BasicBlock: 2-10                  --\n",
       "│    │    └─Conv2d: 3-75                 589,824\n",
       "│    │    └─BatchNorm2d: 3-76            512\n",
       "│    │    └─Identity: 3-77               --\n",
       "│    │    └─ReLU: 3-78                   --\n",
       "│    │    └─Identity: 3-79               --\n",
       "│    │    └─Conv2d: 3-80                 589,824\n",
       "│    │    └─BatchNorm2d: 3-81            512\n",
       "│    │    └─ReLU: 3-82                   --\n",
       "│    └─BasicBlock: 2-11                  --\n",
       "│    │    └─Conv2d: 3-83                 589,824\n",
       "│    │    └─BatchNorm2d: 3-84            512\n",
       "│    │    └─Identity: 3-85               --\n",
       "│    │    └─ReLU: 3-86                   --\n",
       "│    │    └─Identity: 3-87               --\n",
       "│    │    └─Conv2d: 3-88                 589,824\n",
       "│    │    └─BatchNorm2d: 3-89            512\n",
       "│    │    └─ReLU: 3-90                   --\n",
       "│    └─BasicBlock: 2-12                  --\n",
       "│    │    └─Conv2d: 3-91                 589,824\n",
       "│    │    └─BatchNorm2d: 3-92            512\n",
       "│    │    └─Identity: 3-93               --\n",
       "│    │    └─ReLU: 3-94                   --\n",
       "│    │    └─Identity: 3-95               --\n",
       "│    │    └─Conv2d: 3-96                 589,824\n",
       "│    │    └─BatchNorm2d: 3-97            512\n",
       "│    │    └─ReLU: 3-98                   --\n",
       "│    └─BasicBlock: 2-13                  --\n",
       "│    │    └─Conv2d: 3-99                 589,824\n",
       "│    │    └─BatchNorm2d: 3-100           512\n",
       "│    │    └─Identity: 3-101              --\n",
       "│    │    └─ReLU: 3-102                  --\n",
       "│    │    └─Identity: 3-103              --\n",
       "│    │    └─Conv2d: 3-104                589,824\n",
       "│    │    └─BatchNorm2d: 3-105           512\n",
       "│    │    └─ReLU: 3-106                  --\n",
       "├─Sequential: 1-8                        --\n",
       "│    └─BasicBlock: 2-14                  --\n",
       "│    │    └─Conv2d: 3-107                1,179,648\n",
       "│    │    └─BatchNorm2d: 3-108           1,024\n",
       "│    │    └─Identity: 3-109              --\n",
       "│    │    └─ReLU: 3-110                  --\n",
       "│    │    └─Identity: 3-111              --\n",
       "│    │    └─Conv2d: 3-112                2,359,296\n",
       "│    │    └─BatchNorm2d: 3-113           1,024\n",
       "│    │    └─ReLU: 3-114                  --\n",
       "│    │    └─Sequential: 3-115            132,096\n",
       "│    └─BasicBlock: 2-15                  --\n",
       "│    │    └─Conv2d: 3-116                2,359,296\n",
       "│    │    └─BatchNorm2d: 3-117           1,024\n",
       "│    │    └─Identity: 3-118              --\n",
       "│    │    └─ReLU: 3-119                  --\n",
       "│    │    └─Identity: 3-120              --\n",
       "│    │    └─Conv2d: 3-121                2,359,296\n",
       "│    │    └─BatchNorm2d: 3-122           1,024\n",
       "│    │    └─ReLU: 3-123                  --\n",
       "│    └─BasicBlock: 2-16                  --\n",
       "│    │    └─Conv2d: 3-124                2,359,296\n",
       "│    │    └─BatchNorm2d: 3-125           1,024\n",
       "│    │    └─Identity: 3-126              --\n",
       "│    │    └─ReLU: 3-127                  --\n",
       "│    │    └─Identity: 3-128              --\n",
       "│    │    └─Conv2d: 3-129                2,359,296\n",
       "│    │    └─BatchNorm2d: 3-130           1,024\n",
       "│    │    └─ReLU: 3-131                  --\n",
       "├─SelectAdaptivePool2d: 1-9              --\n",
       "│    └─AdaptiveAvgPool2d: 2-17           --\n",
       "│    └─Flatten: 2-18                     --\n",
       "├─Linear: 1-10                           51,300\n",
       "=================================================================\n",
       "Total params: 21,328,292\n",
       "Trainable params: 21,328,292\n",
       "Non-trainable params: 0\n",
       "================================================================="
      ]
     },
     "execution_count": 83,
     "metadata": {},
     "output_type": "execute_result"
    }
   ],
   "source": [
    "from torchinfo import summary\n",
    "summary(model = teacher_model)"
   ]
  },
  {
   "cell_type": "code",
   "execution_count": 84,
   "metadata": {},
   "outputs": [
    {
     "data": {
      "text/plain": [
       "================================================================================\n",
       "Layer (type:depth-idx)                                  Param #\n",
       "================================================================================\n",
       "EfficientNet                                            --\n",
       "├─Sequential: 1-1                                       --\n",
       "│    └─Conv2dNormActivation: 2-1                        --\n",
       "│    │    └─Conv2d: 3-1                                 864\n",
       "│    │    └─BatchNorm2d: 3-2                            64\n",
       "│    │    └─SiLU: 3-3                                   --\n",
       "│    └─Sequential: 2-2                                  --\n",
       "│    │    └─MBConv: 3-4                                 1,448\n",
       "│    └─Sequential: 2-3                                  --\n",
       "│    │    └─MBConv: 3-5                                 6,004\n",
       "│    │    └─MBConv: 3-6                                 10,710\n",
       "│    └─Sequential: 2-4                                  --\n",
       "│    │    └─MBConv: 3-7                                 15,350\n",
       "│    │    └─MBConv: 3-8                                 31,290\n",
       "│    └─Sequential: 2-5                                  --\n",
       "│    │    └─MBConv: 3-9                                 37,130\n",
       "│    │    └─MBConv: 3-10                                102,900\n",
       "│    │    └─MBConv: 3-11                                102,900\n",
       "│    └─Sequential: 2-6                                  --\n",
       "│    │    └─MBConv: 3-12                                126,004\n",
       "│    │    └─MBConv: 3-13                                208,572\n",
       "│    │    └─MBConv: 3-14                                208,572\n",
       "│    └─Sequential: 2-7                                  --\n",
       "│    │    └─MBConv: 3-15                                262,492\n",
       "│    │    └─MBConv: 3-16                                587,952\n",
       "│    │    └─MBConv: 3-17                                587,952\n",
       "│    │    └─MBConv: 3-18                                587,952\n",
       "│    └─Sequential: 2-8                                  --\n",
       "│    │    └─MBConv: 3-19                                717,232\n",
       "│    └─Conv2dNormActivation: 2-9                        --\n",
       "│    │    └─Conv2d: 3-20                                409,600\n",
       "│    │    └─BatchNorm2d: 3-21                           2,560\n",
       "│    │    └─SiLU: 3-22                                  --\n",
       "├─AdaptiveAvgPool2d: 1-2                                --\n",
       "├─Sequential: 1-3                                       --\n",
       "│    └─Dropout: 2-10                                    --\n",
       "│    └─Linear: 2-11                                     12,810\n",
       "================================================================================\n",
       "Total params: 4,020,358\n",
       "Trainable params: 4,020,358\n",
       "Non-trainable params: 0\n",
       "================================================================================"
      ]
     },
     "execution_count": 84,
     "metadata": {},
     "output_type": "execute_result"
    }
   ],
   "source": [
    "from torchinfo import summary\n",
    "summary(model = student_model)"
   ]
  },
  {
   "cell_type": "code",
   "execution_count": 106,
   "metadata": {},
   "outputs": [],
   "source": [
    "def count_parameters(model):\n",
    "    return sum(p.numel() for p in model.parameters() if p.requires_grad)\n",
    "\n",
    "\n",
    "teacher_total_params = count_parameters(teacher_model)\n",
    "student_model_params = count_parameters(student_model)\n"
   ]
  },
  {
   "cell_type": "code",
   "execution_count": 107,
   "metadata": {},
   "outputs": [
    {
     "data": {
      "text/plain": [
       "18.849882587879048"
      ]
     },
     "execution_count": 107,
     "metadata": {},
     "output_type": "execute_result"
    }
   ],
   "source": [
    "((student_model_params)/teacher_total_params) * 100"
   ]
  },
  {
   "cell_type": "code",
   "execution_count": 108,
   "metadata": {},
   "outputs": [
    {
     "data": {
      "text/plain": [
       "21328292"
      ]
     },
     "execution_count": 108,
     "metadata": {},
     "output_type": "execute_result"
    }
   ],
   "source": [
    "teacher_total_params"
   ]
  },
  {
   "cell_type": "code",
   "execution_count": 90,
   "metadata": {},
   "outputs": [
    {
     "data": {
      "text/plain": [
       "4020358"
      ]
     },
     "execution_count": 90,
     "metadata": {},
     "output_type": "execute_result"
    }
   ],
   "source": [
    "student_model_params"
   ]
  },
  {
   "cell_type": "code",
   "execution_count": 109,
   "metadata": {},
   "outputs": [],
   "source": [
    "#params\n",
    "LATENT_DIM= 100\n",
    "BATCH_SIZE = 129\n",
    "K = 5\n",
    "num_steps = 50_000\n"
   ]
  },
  {
   "cell_type": "code",
   "execution_count": 110,
   "metadata": {},
   "outputs": [],
   "source": [
    "#optimzer \n",
    "generator_optimizer = torch.optim.Adam(generator_model.parameters(),lr = 1e-3,betas=(0.9, 0.999))\n",
    "student_optimizer  = torch.optim.SGD(student_model.parameters(),lr = 0.1,momentum=0.9)\n"
   ]
  },
  {
   "cell_type": "code",
   "execution_count": null,
   "metadata": {},
   "outputs": [],
   "source": [
    "#training loop \n",
    "teacher_model.eval()\n",
    "for step in range(num_steps):\n",
    "    \n",
    "    for _ in range(K):\n",
    "        student_model.train()\n",
    "        latent_vec = torch.randn(BATCH_SIZE,LATENT_DIM).cuda()\n",
    "        x_fake = generator_model(latent_vec)\n",
    "        with torch.no_grad():\n",
    "            t_logits = teacher_model(x_fake)\n",
    "        s_logits = student_model(x_fake)\n",
    "        loss_im = torch.mean(torch.abs(t_logits - s_logits))\n",
    "        student_optimizer.zero_grad()\n",
    "        loss_im.backward()\n",
    "        student_optimizer.step()\n",
    "\n",
    "    # genration stage\n",
    "    \n",
    "    latent_vec = torch.randn(BATCH_SIZE,LATENT_DIM).cuda()\n",
    "    x_fake = generator_model(latent_vec)\n",
    "    t_logits = teacher_model(x_fake)\n",
    "    s_logits = student_model(x_fake)\n",
    "    loss_im = torch.mean(torch.abs(t_logits - s_logits))\n",
    "    generator_loss = -torch.log(loss_im+1)\n",
    "    generator_optimizer.zero_grad()\n",
    "    generator_loss.backward()\n",
    "    generator_optimizer.step()\n",
    "\n",
    "\n",
    "    if step % 100 == 0:\n",
    "        print(f\"Step {step}: Imitation loss={loss_im.item():.4f}, Gen loss={generator_loss.item():.4f}\")\n"
   ]
  },
  {
   "cell_type": "code",
   "execution_count": null,
   "metadata": {},
   "outputs": [],
   "source": [
    "test_loader = load_cifar_test()\n",
    "def evaluate(model):\n",
    "    model.eval()\n",
    "    correct = total = 0\n",
    "    with torch.no_grad():\n",
    "        for images, labels in testloader:\n",
    "            images, labels = images.cuda(), labels.cuda()\n",
    "            outputs = model(images)\n",
    "            _, predicted = outputs.max(1)\n",
    "            total += labels.size(0)\n",
    "            correct += (predicted == labels).sum().item()\n",
    "    return correct / total\n",
    "\n",
    "acc_student1 = evaluate(student1)\n",
    "print(f\"Student1 Test Accuracy: {acc_student1:.4f}\")"
   ]
  }
 ],
 "metadata": {
  "kernelspec": {
   "display_name": "base",
   "language": "python",
   "name": "python3"
  },
  "language_info": {
   "codemirror_mode": {
    "name": "ipython",
    "version": 3
   },
   "file_extension": ".py",
   "mimetype": "text/x-python",
   "name": "python",
   "nbconvert_exporter": "python",
   "pygments_lexer": "ipython3",
   "version": "3.12.2"
  }
 },
 "nbformat": 4,
 "nbformat_minor": 2
}
