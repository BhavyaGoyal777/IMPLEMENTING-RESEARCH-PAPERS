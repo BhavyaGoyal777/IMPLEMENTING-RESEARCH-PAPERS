{
 "cells": [
  {
   "cell_type": "code",
   "execution_count": 1,
   "metadata": {},
   "outputs": [],
   "source": [
    "import torch\n",
    "import torch.nn as nn"
   ]
  },
  {
   "cell_type": "code",
   "execution_count": 18,
   "metadata": {},
   "outputs": [],
   "source": [
    "class RMSNORM(nn.Module):\n",
    "    def __init__(self,emb_dim, eps = 1e-5):\n",
    "        super().__init__()\n",
    "        self.eps = eps\n",
    "        self.emb_dim = emb_dim\n",
    "        self.weight = nn.Parameter(torch.ones(emb_dim)).float()\n",
    "\n",
    "    def forward(self, x):\n",
    "        means = x.pow(2).mean(dim = -1, keepdim = True)\n",
    "        x_normed = x / torch.sqrt(self.eps + means)\n",
    "        return (x_normed * self.weight).to(dtype=x.dtype)\n"
   ]
  },
  {
   "cell_type": "code",
   "execution_count": 21,
   "metadata": {},
   "outputs": [],
   "source": [
    "torch.manual_seed(123)\n",
    "\n",
    "example_batch = torch.randn(2, 3, 4)\n",
    "\n",
    "rms_norm = RMSNORM(emb_dim=example_batch.shape[-1])\n",
    "\n",
    "rmsnorm_pytorch = torch.nn.RMSNorm(example_batch.shape[-1], eps=1e-5)\n"
   ]
  },
  {
   "cell_type": "code",
   "execution_count": 22,
   "metadata": {},
   "outputs": [
    {
     "data": {
      "text/plain": [
       "tensor([[[ 0.8834, -0.4655, -0.7948, -1.5398],\n",
       "         [ 0.8053,  1.5254, -0.5074, -0.8759],\n",
       "         [-0.1619, -0.4049,  0.7016, -1.8214]],\n",
       "\n",
       "        [[ 1.3348, -0.1232,  0.9638, -1.1288],\n",
       "         [-0.8511, -1.5285, -0.4420,  0.8624],\n",
       "         [ 0.9398,  0.2082,  1.7241, -0.3180]]], grad_fn=<MulBackward0>)"
      ]
     },
     "execution_count": 22,
     "metadata": {},
     "output_type": "execute_result"
    }
   ],
   "source": [
    "rms_norm(example_batch)"
   ]
  },
  {
   "cell_type": "code",
   "execution_count": 24,
   "metadata": {},
   "outputs": [
    {
     "data": {
      "text/plain": [
       "tensor([[[ 0.8834, -0.4655, -0.7948, -1.5398],\n",
       "         [ 0.8053,  1.5254, -0.5074, -0.8759],\n",
       "         [-0.1619, -0.4049,  0.7016, -1.8214]],\n",
       "\n",
       "        [[ 1.3348, -0.1232,  0.9638, -1.1288],\n",
       "         [-0.8511, -1.5285, -0.4420,  0.8624],\n",
       "         [ 0.9398,  0.2082,  1.7241, -0.3180]]], grad_fn=<MulBackward0>)"
      ]
     },
     "execution_count": 24,
     "metadata": {},
     "output_type": "execute_result"
    }
   ],
   "source": [
    "rmsnorm_pytorch(example_batch)"
   ]
  },
  {
   "cell_type": "code",
   "execution_count": 36,
   "metadata": {},
   "outputs": [],
   "source": [
    "class Silu(nn.Module):\n",
    "    def __init__(self):\n",
    "        super().__init__()\n",
    "    def forward(self, x):    \n",
    "        value = torch.sigmoid(x) * x \n",
    "        return value\n",
    "        "
   ]
  },
  {
   "cell_type": "code",
   "execution_count": 37,
   "metadata": {},
   "outputs": [],
   "source": [
    "fn = Silu()\n",
    "value = fn(example_batch)"
   ]
  },
  {
   "cell_type": "code",
   "execution_count": 38,
   "metadata": {},
   "outputs": [
    {
     "data": {
      "text/plain": [
       "tensor([[[ 0.1969, -0.0810, -0.1289, -0.2100],\n",
       "         [ 0.2044,  0.4354, -0.0978, -0.1541],\n",
       "         [-0.0739, -0.1610,  0.4642, -0.2549]],\n",
       "\n",
       "        [[ 1.6484, -0.0799,  1.0913, -0.2686],\n",
       "         [-0.2459, -0.2767, -0.1628,  0.5480],\n",
       "         [ 0.7297,  0.1228,  1.5791, -0.1407]]])"
      ]
     },
     "execution_count": 38,
     "metadata": {},
     "output_type": "execute_result"
    }
   ],
   "source": [
    "value"
   ]
  },
  {
   "cell_type": "code",
   "execution_count": 41,
   "metadata": {},
   "outputs": [],
   "source": [
    "class FeedForward(nn.Module):\n",
    "    def __init__(self,cfg): #cfg is the configuration here\n",
    "        super().__init__()\n",
    "        self.layer1 = nn.Linear(\n",
    "            cfg['emb_dim'],\n",
    "            cfg['hidden_dim'],\n",
    "            bias=False,\n",
    "            dtype=cfg[\"dtype\"]\n",
    "        )\n",
    "        self.layer2 = nn.Linear(\n",
    "            cfg['emb_dim'],\n",
    "            cfg['hidden_dim'],\n",
    "            bias=False,\n",
    "            dtype=cfg[\"dtype\"]\n",
    "        )\n",
    "        self.layer3 = nn.Linear(\n",
    "            cfg['hidden_dim'],\n",
    "            cfg['emb_dim'],\n",
    "            bias=False,\n",
    "            dtype=cfg[\"dtype\"]\n",
    "            \n",
    "        )\n",
    "        self.silu = Silu()\n",
    "\n",
    "    def forward(self,x):\n",
    "        o1 = self.layer1(x)\n",
    "        o1 = self.silu(o1)\n",
    "        o2 = self.layer2(x)\n",
    "        o1Xo2 = torch.dot(o1 ,o2)\n",
    "        o3 = self.layer3(o1Xo2)\n",
    "\n",
    "        return o3 \n",
    "\n",
    "\n"
   ]
  },
  {
   "cell_type": "code",
   "execution_count": 61,
   "metadata": {},
   "outputs": [],
   "source": [
    "\n",
    "def precompute_rope_params(head_dim, device,  theta_base = 10_000, context_length = 4096):\n",
    "    assert head_dim % 2 == 0\n",
    "\n",
    "    # theta(i) = 10000 power(-2(i-1)d)\n",
    "    #where i = 1,2,3,4,5,6 .... d/2\n",
    "\n",
    "    theta_numerator = torch.arange(0 , head_dim , 2).float()\n",
    "\n",
    "    theta =  1.0 / ((theta_base) ** (theta_numerator)(head_dim)).to(device)\n",
    "\n",
    "    m = torch.arange(\n",
    "        context_length,\n",
    "        device=device\n",
    "    )\n",
    "\n",
    "    angles = m[:None] * theta[None,:]  # the dim of angle is (context_lenght , head_dim /2)\n",
    "\n",
    "    euler_form = torch.polar(\n",
    "        torch.ones_like(\n",
    "            angles\n",
    "        ),\n",
    "        angles\n",
    "    )\n",
    "\n",
    "    return angles\n",
    "\n",
    "\n",
    "def apply_rotary_embeddings(token_to_be_applied, angle_in_polar_form,device):\n",
    "      # x is the token we want to apply\n",
    "\n",
    "      x_complex = torch.view_as_complex(\n",
    "           token_to_be_applied.float().reshape(\n",
    "                *token_to_be_applied.shape[:-1],-1,2\n",
    "           )\n",
    "      )\n",
    "      #(Seq_Len, Head_Dim/2) --> (1, Seq_Len, 1, Head_Dim/2)\n",
    "      angle_in_polar_form = angle_in_polar_form.unsqueeze(0).unsqueeze(2)\n",
    "\n",
    "      rotate_input_embeddings = x_complex * angle_in_polar_form\n",
    "      # the token element wise multiplication with the angle in polar form\n",
    "\n",
    "\n",
    "      x_out = torch.view_as_real(\n",
    "           rotate_input_embeddings\n",
    "      )\n",
    "\n",
    "      x_out = x_out.shape(\n",
    "           *token_to_be_applied.shape\n",
    "      )\n",
    "\n",
    "      return x_out.type_as(token_to_be_applied).to(device)\n",
    "\n"
   ]
  },
  {
   "cell_type": "code",
   "execution_count": null,
   "metadata": {},
   "outputs": [],
   "source": []
  }
 ],
 "metadata": {
  "kernelspec": {
   "display_name": "base",
   "language": "python",
   "name": "python3"
  },
  "language_info": {
   "codemirror_mode": {
    "name": "ipython",
    "version": 3
   },
   "file_extension": ".py",
   "mimetype": "text/x-python",
   "name": "python",
   "nbconvert_exporter": "python",
   "pygments_lexer": "ipython3",
   "version": "3.12.2"
  }
 },
 "nbformat": 4,
 "nbformat_minor": 2
}
