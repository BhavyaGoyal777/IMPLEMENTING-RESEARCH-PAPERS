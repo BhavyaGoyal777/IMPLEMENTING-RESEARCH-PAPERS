{
 "cells": [
  {
   "cell_type": "code",
   "execution_count": 1,
   "metadata": {},
   "outputs": [],
   "source": [
    "import torch\n",
    "import torch.nn as nn"
   ]
  },
  {
   "cell_type": "code",
   "execution_count": 18,
   "metadata": {},
   "outputs": [],
   "source": [
    "class RMSNORM(nn.Module):\n",
    "    def __init__(self,emb_dim, eps = 1e-5):\n",
    "        super().__init__()\n",
    "        self.eps = eps\n",
    "        self.emb_dim = emb_dim\n",
    "        self.weight = nn.Parameter(torch.ones(emb_dim)).float()\n",
    "\n",
    "    def forward(self, x):\n",
    "        means = x.pow(2).mean(dim = -1, keepdim = True)\n",
    "        x_normed = x / torch.sqrt(self.eps + means)\n",
    "        return (x_normed * self.weight).to(dtype=x.dtype)\n"
   ]
  },
  {
   "cell_type": "code",
   "execution_count": 21,
   "metadata": {},
   "outputs": [],
   "source": [
    "torch.manual_seed(123)\n",
    "\n",
    "example_batch = torch.randn(2, 3, 4)\n",
    "\n",
    "rms_norm = RMSNORM(emb_dim=example_batch.shape[-1])\n",
    "\n",
    "rmsnorm_pytorch = torch.nn.RMSNorm(example_batch.shape[-1], eps=1e-5)\n"
   ]
  },
  {
   "cell_type": "code",
   "execution_count": 22,
   "metadata": {},
   "outputs": [
    {
     "data": {
      "text/plain": [
       "tensor([[[ 0.8834, -0.4655, -0.7948, -1.5398],\n",
       "         [ 0.8053,  1.5254, -0.5074, -0.8759],\n",
       "         [-0.1619, -0.4049,  0.7016, -1.8214]],\n",
       "\n",
       "        [[ 1.3348, -0.1232,  0.9638, -1.1288],\n",
       "         [-0.8511, -1.5285, -0.4420,  0.8624],\n",
       "         [ 0.9398,  0.2082,  1.7241, -0.3180]]], grad_fn=<MulBackward0>)"
      ]
     },
     "execution_count": 22,
     "metadata": {},
     "output_type": "execute_result"
    }
   ],
   "source": [
    "rms_norm(example_batch)"
   ]
  },
  {
   "cell_type": "code",
   "execution_count": 24,
   "metadata": {},
   "outputs": [
    {
     "data": {
      "text/plain": [
       "tensor([[[ 0.8834, -0.4655, -0.7948, -1.5398],\n",
       "         [ 0.8053,  1.5254, -0.5074, -0.8759],\n",
       "         [-0.1619, -0.4049,  0.7016, -1.8214]],\n",
       "\n",
       "        [[ 1.3348, -0.1232,  0.9638, -1.1288],\n",
       "         [-0.8511, -1.5285, -0.4420,  0.8624],\n",
       "         [ 0.9398,  0.2082,  1.7241, -0.3180]]], grad_fn=<MulBackward0>)"
      ]
     },
     "execution_count": 24,
     "metadata": {},
     "output_type": "execute_result"
    }
   ],
   "source": [
    "rmsnorm_pytorch(example_batch)"
   ]
  },
  {
   "cell_type": "code",
   "execution_count": 36,
   "metadata": {},
   "outputs": [],
   "source": [
    "class Silu(nn.Module):\n",
    "    def __init__(self):\n",
    "        super().__init__()\n",
    "    def forward(self, x):    \n",
    "        value = torch.sigmoid(x) * x \n",
    "        return value\n",
    "        "
   ]
  },
  {
   "cell_type": "code",
   "execution_count": 37,
   "metadata": {},
   "outputs": [],
   "source": [
    "fn = Silu()\n",
    "value = fn(example_batch)"
   ]
  },
  {
   "cell_type": "code",
   "execution_count": 38,
   "metadata": {},
   "outputs": [
    {
     "data": {
      "text/plain": [
       "tensor([[[ 0.1969, -0.0810, -0.1289, -0.2100],\n",
       "         [ 0.2044,  0.4354, -0.0978, -0.1541],\n",
       "         [-0.0739, -0.1610,  0.4642, -0.2549]],\n",
       "\n",
       "        [[ 1.6484, -0.0799,  1.0913, -0.2686],\n",
       "         [-0.2459, -0.2767, -0.1628,  0.5480],\n",
       "         [ 0.7297,  0.1228,  1.5791, -0.1407]]])"
      ]
     },
     "execution_count": 38,
     "metadata": {},
     "output_type": "execute_result"
    }
   ],
   "source": [
    "value"
   ]
  },
  {
   "cell_type": "code",
   "execution_count": 41,
   "metadata": {},
   "outputs": [],
   "source": [
    "class FeedForward(nn.Module):\n",
    "    def __init__(self,cfg): #cfg is the configuration here\n",
    "        super().__init__()\n",
    "        self.layer1 = nn.Linear(\n",
    "            cfg['emb_dim'],\n",
    "            cfg['hidden_dim'],\n",
    "            bias=False,\n",
    "            dtype=cfg[\"dtype\"]\n",
    "        )\n",
    "        self.layer2 = nn.Linear(\n",
    "            cfg['emb_dim'],\n",
    "            cfg['hidden_dim'],\n",
    "            bias=False,\n",
    "            dtype=cfg[\"dtype\"]\n",
    "        )\n",
    "        self.layer3 = nn.Linear(\n",
    "            cfg['hidden_dim'],\n",
    "            cfg['emb_dim'],\n",
    "            bias=False,\n",
    "            dtype=cfg[\"dtype\"]\n",
    "            \n",
    "        )\n",
    "        self.silu = Silu()\n",
    "\n",
    "    def forward(self,x):\n",
    "        o1 = self.layer1(x)\n",
    "        o1 = self.silu(o1)\n",
    "        o2 = self.layer2(x)\n",
    "        o1Xo2 = torch.dot(o1 ,o2)\n",
    "        o3 = self.layer3(o1Xo2)\n",
    "\n",
    "        return o3 "
   ]
  },
  {
   "cell_type": "code",
   "execution_count": 94,
   "metadata": {},
   "outputs": [],
   "source": [
    "def precompute_rope_params(head_dim, device, theta_base=10_000, context_length=4096):\n",
    "    assert head_dim % 2 == 0\n",
    "    \n",
    "    # theta(i) = 10000^(-2(i-1)/d)\n",
    "    # where i = 1,2,3,4,5,6 ... d/2\n",
    "    theta_numerator = torch.arange(0, head_dim, 2).float()\n",
    "    print(\"theta_numerator:--->\",theta_numerator.shape)\n",
    "    \n",
    "    theta = 1.0 / (theta_base ** (theta_numerator / head_dim)).to(device)\n",
    "    print(\"theta_:--->\",theta.shape)\n",
    "    \n",
    "    m = torch.arange(context_length, device=device)\n",
    "    angles = m[:, None] * theta[None, :]  \n",
    "    # the dim of angle is (context_length, head_dim/2)\n",
    "    print(\"angles_shape-->\",angles.shape)\n",
    "    \n",
    "    # This creates complex numbers in polar form (R=1, theta=angles)\n",
    "    euler_form = torch.polar(torch.ones_like(angles), angles)\n",
    "    print(\"euler_form:--->\",euler_form.shape)\n",
    "    \n",
    "    return euler_form\n",
    "\n",
    "def apply_rotary_embeddings(token_to_be_applied, euler_form, device):\n",
    "    # Convert to complex representation\n",
    "    print(\"token_to---->\",token_to_be_applied.shape)\n",
    "    x_complex = torch.view_as_complex(\n",
    "        token_to_be_applied.float().reshape(*token_to_be_applied.shape[:-1], -1, 2)\n",
    "    )\n",
    "    print(\"X_complex---->\",x_complex.shape)\n",
    "    \n",
    "   \n",
    "    # Assuming token shape is (batch, seq_len, heads, head_dim)\n",
    "    # euler_form shape is (context_length, head_dim/2)\n",
    "    \n",
    "    # We need to match the sequence length dimension, and broadcast across batch and heads\n",
    "    # [:token_to_be_applied.shape[1]] ensures we only use angles for the actual sequence length\n",
    "    reshaped_euler = euler_form[:token_to_be_applied.shape[1]].unsqueeze(0).unsqueeze(2)\n",
    "    print(\"reshaped_euler--->\",reshaped_euler.shape)\n",
    "    \n",
    "    rotated_embeddings = x_complex * reshaped_euler\n",
    "\n",
    "    print(\"rotated_embeddings shape--->\",rotated_embeddings.shape)\n",
    "    \n",
    "    # Convert back from complex to real\n",
    "    x_out = torch.view_as_real(rotated_embeddings)\n",
    "    print(\"x__out--->\",x_out.shape)\n",
    "    \n",
    "    # Reshape back to original shape\n",
    "   \n",
    "    x_out = x_out.reshape(*token_to_be_applied.shape)\n",
    "    print(\"x__out--->\",x_out.shape)\n",
    "    \n",
    "    return x_out.type_as(token_to_be_applied).to(device)"
   ]
  },
  {
   "cell_type": "code",
   "execution_count": 95,
   "metadata": {},
   "outputs": [
    {
     "name": "stdout",
     "output_type": "stream",
     "text": [
      "cpu\n"
     ]
    }
   ],
   "source": [
    "device = \"cuda\" if torch.cuda.is_available() else \"cpu\"\n",
    "print(device)"
   ]
  },
  {
   "cell_type": "code",
   "execution_count": 96,
   "metadata": {},
   "outputs": [
    {
     "name": "stdout",
     "output_type": "stream",
     "text": [
      "theta_numerator:---> torch.Size([8])\n",
      "theta_:---> torch.Size([8])\n",
      "angles_shape--> torch.Size([4096, 8])\n",
      "euler_form:---> torch.Size([4096, 8])\n"
     ]
    }
   ],
   "source": [
    "batch_size = 2\n",
    "context_len = 5\n",
    "num_heads = 4\n",
    "head_dim = 16\n",
    "\n",
    "rope_params = precompute_rope_params(head_dim, device)"
   ]
  },
  {
   "cell_type": "code",
   "execution_count": 97,
   "metadata": {},
   "outputs": [
    {
     "data": {
      "text/plain": [
       "torch.Size([4096, 8])"
      ]
     },
     "execution_count": 97,
     "metadata": {},
     "output_type": "execute_result"
    }
   ],
   "source": [
    "rope_params.shape"
   ]
  },
  {
   "cell_type": "code",
   "execution_count": 98,
   "metadata": {},
   "outputs": [],
   "source": [
    "sample_tokens = torch.randn(batch_size, context_len, num_heads, head_dim, device=device)"
   ]
  },
  {
   "cell_type": "code",
   "execution_count": 99,
   "metadata": {},
   "outputs": [
    {
     "data": {
      "text/plain": [
       "torch.Size([2, 5, 4, 16])"
      ]
     },
     "execution_count": 99,
     "metadata": {},
     "output_type": "execute_result"
    }
   ],
   "source": [
    "sample_tokens.shape\n"
   ]
  },
  {
   "cell_type": "code",
   "execution_count": 100,
   "metadata": {},
   "outputs": [
    {
     "name": "stdout",
     "output_type": "stream",
     "text": [
      "token_to----> torch.Size([2, 5, 4, 16])\n",
      "X_complex----> torch.Size([2, 5, 4, 8])\n",
      "reshaped_euler---> torch.Size([1, 5, 1, 8])\n",
      "rotated_embeddings shape---> torch.Size([2, 5, 4, 8])\n",
      "x__out---> torch.Size([2, 5, 4, 8, 2])\n",
      "x__out---> torch.Size([2, 5, 4, 16])\n"
     ]
    }
   ],
   "source": [
    "rotated_tokens = apply_rotary_embeddings(sample_tokens, rope_params, device)"
   ]
  },
  {
   "cell_type": "code",
   "execution_count": 101,
   "metadata": {},
   "outputs": [
    {
     "data": {
      "text/plain": [
       "torch.Size([2, 5, 4, 16])"
      ]
     },
     "execution_count": 101,
     "metadata": {},
     "output_type": "execute_result"
    }
   ],
   "source": [
    "rotated_tokens.shape"
   ]
  },
  {
   "cell_type": "code",
   "execution_count": 108,
   "metadata": {},
   "outputs": [],
   "source": [
    "class MultiHeadAttentionModule(nn.Module):\n",
    "    def __init__(self, d_in, d_out, num_heads, context_length, dtype=None, dropout=0.1):\n",
    "        super().__init__()\n",
    "        assert d_out % num_heads == 0\n",
    "        \n",
    "        # self.d_in = d_in\n",
    "        self.d_out = d_out\n",
    "        self.num_heads = num_heads\n",
    "        \n",
    "        self.head_dim = d_out // num_heads\n",
    "        \n",
    "        self.W_query = torch.nn.Linear(\n",
    "            in_features=d_in,\n",
    "            out_features=d_out,\n",
    "            device=device,\n",
    "            dtype=dtype,\n",
    "            bias=False\n",
    "        )\n",
    "        self.W_key = torch.nn.Linear(\n",
    "            in_features=d_in,\n",
    "            out_features=d_out,\n",
    "            device=device,\n",
    "            dtype=dtype,\n",
    "            bias=False\n",
    "        )\n",
    "        self.W_value = torch.nn.Linear(\n",
    "            in_features=d_in,\n",
    "            out_features=d_out,\n",
    "            device=device,\n",
    "            dtype=dtype,\n",
    "            bias=False\n",
    "        )\n",
    "        \n",
    "        self.projection_layer = nn.Linear(\n",
    "            d_out, d_out, bias=False, device=device, dtype=dtype\n",
    "        )\n",
    "        \n",
    "        self.register_buffer(\"mask\", torch.triu(torch.ones(context_length, context_length), diagonal=1))\n",
    "        \n",
    "        rope_params = precompute_rope_params(\n",
    "            head_dim=self.head_dim,\n",
    "            device=device,\n",
    "        )\n",
    "        self.register_buffer(\"rope_params\", rope_params)\n",
    "    \n",
    "    def forward(self, x):\n",
    "        b, num_tokens, dim = x.shape\n",
    "        \n",
    "        key_vec = self.W_key(x)\n",
    "        query_vec = self.W_query(x)\n",
    "        value_vec = self.W_value(x)\n",
    "        \n",
    "        keys = key_vec.view(\n",
    "            b, num_tokens, self.num_heads, self.head_dim\n",
    "        )\n",
    "        values = value_vec.view(\n",
    "            b, num_tokens, self.num_heads, self.head_dim\n",
    "        )\n",
    "        queries = query_vec.view(\n",
    "            b, num_tokens, self.num_heads, self.head_dim\n",
    "        )\n",
    "        \n",
    "        keys = keys.transpose(1, 2)\n",
    "        queries = queries.transpose(1, 2)\n",
    "        values = values.transpose(1, 2)\n",
    "        \n",
    "        # applying rope to key and query part\n",
    "        \n",
    "        keys = apply_rotary_embeddings(keys, self.rope_params,device=device) #(batch, num_heads, num_tokens, head_dim)\n",
    "        queries = apply_rotary_embeddings(queries, self.rope_params,device=device) #(batch, num_heads, num_tokens, head_dim)\n",
    "        \n",
    "        attn_scores = torch.matmul(queries, keys.transpose(2, 3))\n",
    "        \n",
    "        mask_bool = self.mask.bool()[:num_tokens, :num_tokens]\n",
    "        attn_scores.masked_fill_(mask_bool, -torch.inf)\n",
    "        \n",
    "        scaled_attn_scores = torch.softmax(attn_scores / torch.sqrt(torch.tensor(self.head_dim)), dim=-1)\n",
    "        #shape of scaled attn-->(#(batch, num_heads, num_tokens, num_tokens)\n",
    "        #shape of values-->(#(batch, num_heads, num_tokens, head_dim)\n",
    "        \n",
    "        context_vec = scaled_attn_scores @ values\n",
    "        \n",
    "        # shape of context_vec ----> shape of values-->(#(batch, num_heads, num_tokens, head_dim)\n",
    "        \n",
    "        context_vec = context_vec.transpose(1, 2).contiguous().view(b, num_tokens, self.d_out)\n",
    "        \n",
    "        context_vec = self.projection_layer(context_vec)\n",
    "        \n",
    "        return context_vec"
   ]
  },
  {
   "cell_type": "code",
   "execution_count": 109,
   "metadata": {},
   "outputs": [
    {
     "name": "stdout",
     "output_type": "stream",
     "text": [
      "theta_numerator:---> torch.Size([16])\n",
      "theta_:---> torch.Size([16])\n",
      "angles_shape--> torch.Size([4096, 16])\n",
      "euler_form:---> torch.Size([4096, 16])\n",
      "token_to----> torch.Size([1, 4, 100, 32])\n",
      "X_complex----> torch.Size([1, 4, 100, 16])\n",
      "reshaped_euler---> torch.Size([1, 4, 1, 16])\n",
      "rotated_embeddings shape---> torch.Size([1, 4, 100, 16])\n",
      "x__out---> torch.Size([1, 4, 100, 16, 2])\n",
      "x__out---> torch.Size([1, 4, 100, 32])\n",
      "token_to----> torch.Size([1, 4, 100, 32])\n",
      "X_complex----> torch.Size([1, 4, 100, 16])\n",
      "reshaped_euler---> torch.Size([1, 4, 1, 16])\n",
      "rotated_embeddings shape---> torch.Size([1, 4, 100, 16])\n",
      "x__out---> torch.Size([1, 4, 100, 16, 2])\n",
      "x__out---> torch.Size([1, 4, 100, 32])\n"
     ]
    },
    {
     "data": {
      "text/plain": [
       "tensor([[[-0.3530, -0.2181, -0.2645,  ...,  0.0304, -0.5108, -0.3729],\n",
       "         [-0.3053,  0.2656,  0.0188,  ...,  0.2956, -0.0616, -0.2711],\n",
       "         [-0.5983,  0.3538,  0.0800,  ...,  0.1081,  0.1835, -0.1742],\n",
       "         ...,\n",
       "         [-0.0266,  0.0862,  0.0463,  ...,  0.0458,  0.0166, -0.0078],\n",
       "         [-0.0265,  0.0971,  0.0789,  ...,  0.0437,  0.0252,  0.0165],\n",
       "         [-0.0232,  0.0928,  0.0422,  ...,  0.0566,  0.0107,  0.0040]]],\n",
       "       grad_fn=<UnsafeViewBackward0>)"
      ]
     },
     "execution_count": 109,
     "metadata": {},
     "output_type": "execute_result"
    }
   ],
   "source": [
    "batch_size = 1\n",
    "context_len = 100\n",
    "max_context_len = 4096\n",
    "embed_dim = 128\n",
    "num_heads = 4\n",
    "\n",
    "\n",
    "example_batch = torch.randn((batch_size, context_len, embed_dim))\n",
    "\n",
    "mha = MultiHeadAttentionModule(\n",
    "    d_in=embed_dim,\n",
    "    d_out=embed_dim,\n",
    "    context_length=max_context_len,\n",
    "    num_heads=num_heads\n",
    ")\n",
    "\n",
    "mha(example_batch)"
   ]
  },
  {
   "cell_type": "code",
   "execution_count": 110,
   "metadata": {},
   "outputs": [],
   "source": [
    "del mha"
   ]
  },
  {
   "cell_type": "code",
   "execution_count": 112,
   "metadata": {},
   "outputs": [],
   "source": [
    "class Transformer(nn.Module):\n",
    "    def __init__(self, cfg):\n",
    "        super().__init__()\n",
    "        self.att = MultiHeadAttentionModule(\n",
    "            d_in=cfg[\"emb_dim\"],\n",
    "            d_out=cfg[\"emb_dim\"],\n",
    "            context_length=cfg[\"context_length\"],\n",
    "            num_heads=cfg[\"n_heads\"],\n",
    "            dtype=cfg[\"dtype\"]  \n",
    "            \n",
    "        )\n",
    "        self.ff = FeedForward(cfg)\n",
    "        self.norm1 = RMSNORM(cfg[\"emb_dim\"])\n",
    "        self.norm2 = RMSNORM(cfg[\"emb_dim\"])\n",
    "\n",
    "    def forward(self,x):\n",
    "        shortcut = x \n",
    "        x = self.norm1(x)\n",
    "        x = self.att(x)\n",
    "        x = x + shortcut\n",
    "        shortcut = x \n",
    "        x = self.norm2(x)\n",
    "        x = self.ff(x)\n",
    "        x = x +shortcut\n",
    "        x = rms_norm(x)\n",
    "        return x"
   ]
  },
  {
   "cell_type": "code",
   "execution_count": 113,
   "metadata": {},
   "outputs": [],
   "source": [
    "class LLAMA2(nn.Module):\n",
    "    def __init__(self, cfg):\n",
    "        super().__init__()\n",
    "        self.tok_emb = nn.Embedding(cfg[\"vocab_size\"], cfg[\"emb_dim\"], dtype=cfg[\"dtype\"])\n",
    "\n",
    "        self.trf_blocks = nn.Sequential(\n",
    "            *[Transformer(cfg) for _ in range(cfg[\"n_layers\"])])\n",
    "        \n",
    "        self.final_norm = RMSNORM(cfg[\"emb_dim\"])\n",
    "        self.out_head = nn.Linear(cfg[\"emb_dim\"], cfg[\"vocab_size\"], bias=False, dtype=cfg[\"dtype\"])\n",
    "\n",
    "    def forward(self, in_idx):\n",
    "       \n",
    "        tok_embeds = self.tok_emb(in_idx)\n",
    "        x = tok_embeds  \n",
    "        x = self.trf_blocks(x)\n",
    "        x = self.final_norm(x)\n",
    "        logits = self.out_head(x)\n",
    "        return logits\n",
    "        "
   ]
  },
  {
   "cell_type": "code",
   "execution_count": 114,
   "metadata": {},
   "outputs": [],
   "source": [
    "LLAMA2_CONFIG_7B = {\n",
    "    \"vocab_size\": 32000,     # Vocabulary size\n",
    "    \"context_length\": 4096,  # Context length\n",
    "    \"emb_dim\": 4096,         # Embedding dimension\n",
    "    \"n_heads\": 32,           # Number of attention heads\n",
    "    \"n_layers\": 32,          # Number of layers\n",
    "    \"hidden_dim\": 11008,     # NEW: Size of the intermediate dimension in FeedForward\n",
    "    \"dtype\": torch.bfloat16  # NEW: Lower-precision dtype to reduce memory usage\n",
    "}"
   ]
  }
 ],
 "metadata": {
  "kernelspec": {
   "display_name": "base",
   "language": "python",
   "name": "python3"
  },
  "language_info": {
   "codemirror_mode": {
    "name": "ipython",
    "version": 3
   },
   "file_extension": ".py",
   "mimetype": "text/x-python",
   "name": "python",
   "nbconvert_exporter": "python",
   "pygments_lexer": "ipython3",
   "version": "3.12.2"
  }
 },
 "nbformat": 4,
 "nbformat_minor": 2
}
